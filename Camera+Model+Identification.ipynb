{
 "cells": [
  {
   "cell_type": "code",
   "execution_count": null,
   "metadata": {
    "collapsed": true
   },
   "outputs": [],
   "source": [
    "import numpy as np, pandas as pd, matplotlib.pyplot as plt\n",
    "import glob, functools, tqdm, PIL\n",
    "from multiprocess import Pool\n",
    "\n",
    "def imread(fn):\n",
    "    return np.array(PIL.Image.open(fn))\n",
    "\n",
    "def imsize(fn):\n",
    "    im = PIL.Image.open(fn)\n",
    "    sz = im.size\n",
    "    im.close()\n",
    "    return sz\n",
    "\n",
    "def is_landscape(fn):\n",
    "    s = imsize(fn)\n",
    "    return s[0] > s[1]"
   ]
  },
  {
   "cell_type": "code",
   "execution_count": null,
   "metadata": {
    "collapsed": true
   },
   "outputs": [],
   "source": [
    "train = pd.DataFrame({'path':glob.glob('../input/train/*/*')})\n",
    "train['modelname'] = train.path.map(lambda p:p.split('/')[-2])"
   ]
  },
  {
   "cell_type": "code",
   "execution_count": null,
   "metadata": {
    "collapsed": true
   },
   "outputs": [],
   "source": [
    "def random_crop_fft(img, W):\n",
    "    nr, nc = img.shape[:2]\n",
    "    r1, c1 = np.random.randint(nr-W), np.random.randint(nc-W) \n",
    "    imgc = img[r1:r1+W, c1:c1+W, :]\n",
    "\n",
    "    img1 = imgc - cv2.GaussianBlur(imgc, (3,3), 0)\n",
    "    imgs1 = np.sum(img1, axis=2)\n",
    "    \n",
    "    sf = np.stack([\n",
    "         np.fft.fftshift(np.fft.fft2( imgs1 )),\n",
    "         np.fft.fftshift(np.fft.fft2( img1[:,:,0] - img1[:,:,1] )),\n",
    "         np.fft.fftshift(np.fft.fft2( img1[:,:,1] - img1[:,:,2] )),\n",
    "         np.fft.fftshift(np.fft.fft2( img1[:,:,2] - img1[:,:,0] )) ], axis=-1)\n",
    "    return np.abs(sf)\n",
    "    \n",
    "def imread_residual_fft(fn, W, navg):\n",
    "    #print(fn, rss())\n",
    "    img = imread(fn).astype(np.float32) / 255.0\n",
    "    return sum(map(lambda x:random_crop_fft(img, W), range(navg))) / navg\n",
    "\n",
    "\n",
    "\n",
    "def noise_pattern(modelname, W, navg=256):\n",
    "    files = train.path[train.modelname == modelname].values\n",
    "    orientations = np.vectorize(is_landscape)(files)\n",
    "    if np.sum(orientations) < len(orientations)//2:\n",
    "        orientations = ~orientations\n",
    "    files = files[orientations]\n",
    "\n",
    "    from multiprocess import Pool\n",
    "    with Pool() as pool:\n",
    "        s = sum(tqdm.tqdm(pool.imap(lambda fn:imread_residual_fft(fn, W, navg), files), total=len(files), desc=modelname)) / len(files)\n",
    "    \n",
    "    return s"
   ]
  },
  {
   "cell_type": "code",
   "execution_count": null,
   "metadata": {
    "collapsed": true
   },
   "outputs": [],
   "source": [
    "def plot_model_features(modelname, W):\n",
    "    s = noise_pattern(modelname, W)\n",
    "    nchans = s.shape[2]\n",
    "    nrows = (nchans + 3) // 4\n",
    "    _, ax = plt.subplots(nrows, 4, figsize=(16, 4 * nrows))\n",
    "    ax = ax.flatten()\n",
    "\n",
    "    for c in range(nchans):\n",
    "        eps = np.max(s[:,:,c]) * 1e-2\n",
    "        s1 = np.log(s[:,:,c] + eps) - np.log(eps) \n",
    "        img = (s1 * 255 / np.max(s1)).astype(np.uint8)\n",
    "        ax[c].imshow(cv2.equalizeHist(img))\n",
    "        \n",
    "    for ax1 in ax[nchans:]:\n",
    "        ax1.axis('off')\n",
    "\n",
    "    plt.show()\n",
    "    \n",
    "    \n",
    "def plot_all_model_features(W):\n",
    "    print(\"Feature Size={}\".format(W))\n",
    "    for modelname in train.modelname.unique():\n",
    "        plot_model_features(modelname, W)\n",
    "        \n",
    "plot_all_model_features(W=128)\n",
    "\n"
   ]
  },
  {
   "cell_type": "code",
   "execution_count": null,
   "metadata": {
    "collapsed": true
   },
   "outputs": [],
   "source": [
    "datagen = ImageDataGenerator(rescale=1./255)\n",
    "train_generator = datagen.flow_from_directory(\n",
    "        '../input/train/',  \n",
    "        batch_size=1,\n",
    "        class_mode='categorical')"
   ]
  },
  {
   "cell_type": "code",
   "execution_count": null,
   "metadata": {
    "collapsed": true
   },
   "outputs": [],
   "source": [
    "x, y = train_generator.next()\n",
    "plt.imshow((x[0]*255).astype('uint8'));\n",
    "print(list(train_generator.class_indices.keys())[np.argmax(y)])\n"
   ]
  },
  {
   "cell_type": "code",
   "execution_count": null,
   "metadata": {
    "collapsed": true
   },
   "outputs": [],
   "source": [
    "X_data, Y_data = [], []\n",
    "for _ in tqdm(range(2750)):\n",
    "    x, y = train_generator.next()\n",
    "    X_data.append(x[0])\n",
    "    Y_data.append(y[0])\n",
    "X_data = np.asarray(X_data)\n",
    "Y_data = np.asarray(Y_data)"
   ]
  },
  {
   "cell_type": "code",
   "execution_count": null,
   "metadata": {
    "collapsed": true
   },
   "outputs": [],
   "source": [
    "def get_model():\n",
    "    input_img = Input((256, 256, 3))\n",
    "    X = BatchNormalization()(input_img)\n",
    "    X = Convolution2D(16, (3, 3), activation='relu')(X)\n",
    "    X = BatchNormalization()(X)\n",
    "    X = Convolution2D(16, (3, 3), activation='relu')(X)\n",
    "    X = MaxPooling2D()(X)\n",
    "    X = Convolution2D(32, (3, 3), activation='relu')(X)\n",
    "    X = BatchNormalization()(X)\n",
    "    X = Convolution2D(32, (3, 3), activation='relu')(X)\n",
    "    X = GlobalMaxPooling2D()(X)\n",
    "#     X = Flatten()(X)\n",
    "    X = BatchNormalization()(X)\n",
    "    X = Dense(512, activation='relu')(X)\n",
    "    X = Dropout(0.2)(X)\n",
    "    X = Dense(10, activation='softmax')(X)\n",
    "    model = Model(inputs=input_img, outputs=X)\n",
    "\n",
    "    model.compile(optimizer='adam', loss='categorical_crossentropy', \n",
    "                  metrics=['acc'])\n",
    "    model.summary()"
   ]
  },
  {
   "cell_type": "code",
   "execution_count": null,
   "metadata": {
    "collapsed": true
   },
   "outputs": [],
   "source": [
    "model = get_model()\n"
   ]
  },
  {
   "cell_type": "code",
   "execution_count": null,
   "metadata": {
    "collapsed": true
   },
   "outputs": [],
   "source": [
    "model_history = model.fit(X_data, Y_data, batch_size=10, epochs=3, validation_split=0.2,\n",
    "                          callbacks=[EarlyStopping(monitor='val_acc', patience=3, verbose=1)])"
   ]
  },
  {
   "cell_type": "code",
   "execution_count": null,
   "metadata": {
    "collapsed": true
   },
   "outputs": [],
   "source": [
    "X_test = []\n",
    "sub = pd.read_csv('../input/sample_submission.csv')\n",
    "\n",
    "for fname in tqdm(sub['fname']):\n",
    "    filepath = '../input/test/' + fname\n",
    "    X_test.append(img_to_array(load_img(filepath, target_size=(256, 256))))\n",
    "X_test = np.asarray(X_test)"
   ]
  },
  {
   "cell_type": "code",
   "execution_count": null,
   "metadata": {
    "collapsed": true
   },
   "outputs": [],
   "source": [
    "preds = model.predict(X_test, verbose=1)\n",
    "preds = np.argmax(preds, axis=1)\n",
    "preds = [list(train_generator.class_indices.keys())[p] for p in tqdm(preds)]"
   ]
  },
  {
   "cell_type": "code",
   "execution_count": null,
   "metadata": {
    "collapsed": true
   },
   "outputs": [],
   "source": [
    "sub['camera'] = preds\n",
    "sub.to_csv('sub.csv', index=False)"
   ]
  },
  {
   "cell_type": "code",
   "execution_count": null,
   "metadata": {
    "collapsed": true
   },
   "outputs": [],
   "source": []
  }
 ],
 "metadata": {
  "kernelspec": {
   "display_name": "Python 3",
   "language": "python",
   "name": "python3"
  },
  "language_info": {
   "codemirror_mode": {
    "name": "ipython",
    "version": 3
   },
   "file_extension": ".py",
   "mimetype": "text/x-python",
   "name": "python",
   "nbconvert_exporter": "python",
   "pygments_lexer": "ipython3",
   "version": "3.6.3"
  }
 },
 "nbformat": 4,
 "nbformat_minor": 2
}
